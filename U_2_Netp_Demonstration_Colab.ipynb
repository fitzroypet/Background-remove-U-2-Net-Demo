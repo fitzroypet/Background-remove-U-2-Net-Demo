{
  "nbformat": 4,
  "nbformat_minor": 0,
  "metadata": {
    "colab": {
      "provenance": [],
      "include_colab_link": true
    },
    "kernelspec": {
      "name": "python3",
      "display_name": "Python 3"
    },
    "accelerator": "GPU"
  },
  "cells": [
    {
      "cell_type": "markdown",
      "metadata": {
        "id": "view-in-github",
        "colab_type": "text"
      },
      "source": [
        "<a href=\"https://colab.research.google.com/github/fitzroypet/Background-remove-U-2-Net-Demo/blob/main/U_2_Netp_Demonstration_Colab.ipynb\" target=\"_parent\"><img src=\"https://colab.research.google.com/assets/colab-badge.svg\" alt=\"Open In Colab\"/></a>"
      ]
    },
    {
      "cell_type": "markdown",
      "metadata": {
        "id": "9MWXYKyFJtbB"
      },
      "source": [
        "# U-2-NETp DEMONSTRATION\n",
        "\n",
        "**Using U-2-NETp for :**\n",
        " - **Background Removal**\n",
        " - **Bounding Box Creation**\n",
        " - **Salient Feature Highlighting**\n",
        "\n",
        "\n",
        " U-2-NET Paper: [U2-Net: Going Deeper with Nested U-Structure for Salient Object Detection](https://arxiv.org/abs/2005.09007)\n",
        "\n",
        " Original Repo: [U-2-Net Github repo](https://github.com/vaibhavmit074/U-2-Net-Demo)\n",
        "\n",
        "References: X. Qin, Z. Zhang, C. Huang, M. Dehghan, O. R. Zaiane, and M. Jagersand, “U2-net: Going deeper with nested u-structure for salient object\n",
        "detection,” Pattern Recognition, vol. 106, p. 107404, 2020"
      ]
    },
    {
      "cell_type": "markdown",
      "metadata": {
        "id": "Rmyly5RqLynM"
      },
      "source": [
        "# SETUP\n",
        "\n",
        "- Clone github repo: [https://github.com/vaibhavmit074/U-2-Net-Demo](https://github.com/vaibhavmit074/U-2-Net-Demo)\n",
        "- Make directories for images\n",
        "- Import necessary packages\n",
        "\n",
        "Note: Uses U-2-Netp with 4.7MB weights, not U-2-Net with 176.3MB"
      ]
    },
    {
      "cell_type": "markdown",
      "metadata": {
        "id": "ochl_AqPOzQW"
      },
      "source": [
        "# Make sure runtype is GPU\n",
        "**Runtime -> Change Runtime Type -> Hardware Accelerator -> GPU**"
      ]
    },
    {
      "cell_type": "code",
      "metadata": {
        "id": "bYc-cGOVxuXj",
        "outputId": "41f8888d-aefa-43bc-a4a1-2b1843f33c15",
        "colab": {
          "base_uri": "https://localhost:8080/"
        }
      },
      "source": [
        "#@title Run this cell for setups{display-mode: \"form\"}\n",
        "%cd /content\n",
        "!/usr/local/cuda/bin/nvcc --version\n",
        "!git clone https://github.com/shreyas-bk/U-2-Net\n",
        "%cd /content/U-2-Net\n",
        "print('making images directory')\n",
        "!mkdir images\n",
        "print('making results directory')\n",
        "!mkdir results\n",
        "print('importing...')\n",
        "from google.colab import files\n",
        "import os\n",
        "from tensorflow.keras.preprocessing.image import load_img\n",
        "from tensorflow.keras.preprocessing.image import img_to_array\n",
        "import numpy as np\n",
        "from PIL import Image as Img\n",
        "import cv2\n",
        "from google.colab.patches import cv2_imshow\n",
        "print('Done!')"
      ],
      "execution_count": null,
      "outputs": [
        {
          "output_type": "stream",
          "name": "stdout",
          "text": [
            "/content\n",
            "nvcc: NVIDIA (R) Cuda compiler driver\n",
            "Copyright (c) 2005-2021 NVIDIA Corporation\n",
            "Built on Sun_Feb_14_21:12:58_PST_2021\n",
            "Cuda compilation tools, release 11.2, V11.2.152\n",
            "Build cuda_11.2.r11.2/compiler.29618528_0\n",
            "fatal: destination path 'U-2-Net' already exists and is not an empty directory.\n",
            "/content/U-2-Net\n",
            "making images directory\n",
            "mkdir: cannot create directory ‘images’: File exists\n",
            "making results directory\n",
            "mkdir: cannot create directory ‘results’: File exists\n",
            "importing...\n",
            "Done!\n"
          ]
        }
      ]
    },
    {
      "cell_type": "code",
      "source": [
        "from google.colab import drive\n",
        "drive.mount('/content/drive')"
      ],
      "metadata": {
        "colab": {
          "base_uri": "https://localhost:8080/"
        },
        "id": "e2SrjpDahzuZ",
        "outputId": "6796ddba-f628-4e0c-dd0b-bbd1073b80d1"
      },
      "execution_count": null,
      "outputs": [
        {
          "output_type": "stream",
          "name": "stdout",
          "text": [
            "Drive already mounted at /content/drive; to attempt to forcibly remount, call drive.mount(\"/content/drive\", force_remount=True).\n"
          ]
        }
      ]
    },
    {
      "cell_type": "code",
      "source": [
        "import os\n",
        "os.chdir(\"/content/drive/My Drive\")\n",
        "!ls"
      ],
      "metadata": {
        "colab": {
          "base_uri": "https://localhost:8080/"
        },
        "id": "zYVxnl3npA2c",
        "outputId": "08e9e626-ec11-404a-dab0-eb58007a729e"
      },
      "execution_count": null,
      "outputs": [
        {
          "output_type": "stream",
          "name": "stdout",
          "text": [
            "'Amadi Ama Analysis'   plantvillage\n",
            "'Colab Notebooks'      plantvillagedataset.zip\n",
            " dataset\t      'Policy documents'\n",
            " dataset_new\t       Predictions\n",
            " General\t      'Progress report.txt'\n",
            "'Holiday in Wales'    'Tensorflow model'\n",
            " images\t\t      'Think Pacific'\n",
            " model.tflite\t      'Volunteer registration form.gsheet'\n"
          ]
        }
      ]
    },
    {
      "cell_type": "code",
      "source": [
        "import os\n",
        "os.chdir(\"/content/U-2-Net\")\n",
        "!ls"
      ],
      "metadata": {
        "colab": {
          "base_uri": "https://localhost:8080/"
        },
        "id": "7GXfG945Hkcd",
        "outputId": "2de56488-3f85-4d02-c960-8488710d4887"
      },
      "execution_count": null,
      "outputs": [
        {
          "output_type": "stream",
          "name": "stdout",
          "text": [
            "data_loader.py\tmodel\t   results     u2net_test.py\n",
            "images\t\tREADME.md  u2netp.pth  u2net_train.py\n"
          ]
        }
      ]
    },
    {
      "cell_type": "markdown",
      "metadata": {
        "id": "DeMM5rG2MJ5K"
      },
      "source": [
        "# UPLOAD IMAGES"
      ]
    },
    {
      "cell_type": "code",
      "metadata": {
        "id": "7UCKcKAqFVKB"
      },
      "source": [
        "#@title Run this cell to upload images{display-mode: \"form\"}\n",
        "%cd /content/U-2-Net/images\n",
        "uploaded = files.upload()\n",
        "%cd /content/U-2-Net"
      ],
      "execution_count": null,
      "outputs": []
    },
    {
      "cell_type": "markdown",
      "metadata": {
        "id": "YsVaGN8fMO8p"
      },
      "source": [
        "# RESULTS\n",
        " - Run u2net_test.py\n",
        " - Remove Background\n",
        " - Create Bounding Box\n",
        " - Highlight Salient Features"
      ]
    },
    {
      "cell_type": "code",
      "metadata": {
        "id": "HSt4wakMS-wc"
      },
      "source": [
        "#@title Run this cell for results{display-mode: \"form\"}\n",
        "\n",
        "# This code will be hidden when the notebook is loaded.\n",
        "\n",
        "!python -W ignore u2net_test.py\n",
        "\n",
        "image_dir = os.path.join(os.getcwd(), 'images')\n",
        "names = [name[:-4] for name in os.listdir(image_dir)]\n",
        "THRESHOLD = 0.9\n",
        "RESCALE = 255\n",
        "LAYER = 2\n",
        "COLOR = (0, 0, 0)\n",
        "THICKNESS = 4\n",
        "SAL_SHIFT = 100\n",
        "\n",
        "\n",
        "for name in names:\n",
        "\n",
        "  # BACKGROUND REMOVAL\n",
        "\n",
        "  output = load_img('/content/U-2-Net/results/'+name+'.png')\n",
        "  out_img = img_to_array(output)\n",
        "  out_img /= RESCALE\n",
        "\n",
        "  out_img[out_img > THRESHOLD] = 1\n",
        "  out_img[out_img <= THRESHOLD] = 0\n",
        "\n",
        "  shape = out_img.shape\n",
        "  a_layer_init = np.ones(shape = (shape[0],shape[1],1))\n",
        "  mul_layer = np.expand_dims(out_img[:,:,0],axis=2)\n",
        "  a_layer = mul_layer*a_layer_init\n",
        "  rgba_out = np.append(out_img,a_layer,axis=2)\n",
        "\n",
        "  input = load_img('/content/U-2-Net/images/'+name+'.JPG')\n",
        "  inp_img = img_to_array(input)\n",
        "  inp_img /= RESCALE\n",
        "\n",
        "  a_layer = np.ones(shape = (shape[0],shape[1],1))\n",
        "  rgba_inp = np.append(inp_img,a_layer,axis=2)\n",
        "\n",
        "  rem_back = (rgba_inp*rgba_out)\n",
        "  rem_back_scaled = rem_back*RESCALE\n",
        "  rem_bg = Img.fromarray(rem_back_scaled.astype('uint8'), 'RGBA')\n",
        "  #display(rem_bg)\n",
        "\n",
        "  with open('/content/drive/MyDrive/dataset_new/Tomato___Early_blight/'+name+'.png', 'w') as f: \n",
        "    f.write('rem_bg')\n",
        "\n",
        "print('\\nCongratulations!! Background Removal Complete!\\n')"
      ],
      "execution_count": null,
      "outputs": []
    },
    {
      "cell_type": "code",
      "source": [
        "# BOUNDING BOX CREATION\n",
        "\n",
        "  out_layer = out_img[:,:,LAYER]\n",
        "  x_starts = [np.where(out_layer[i]==1)[0][0] if len(np.where(out_layer[i]==1)[0])!=0 else out_layer.shape[0]+1 for i in range(out_layer.shape[0])]\n",
        "  x_ends = [np.where(out_layer[i]==1)[0][-1] if len(np.where(out_layer[i]==1)[0])!=0 else 0 for i in range(out_layer.shape[0])]\n",
        "  y_starts = [np.where(out_layer.T[i]==1)[0][0] if len(np.where(out_layer.T[i]==1)[0])!=0 else out_layer.T.shape[0]+1 for i in range(out_layer.T.shape[0])]\n",
        "  y_ends = [np.where(out_layer.T[i]==1)[0][-1] if len(np.where(out_layer.T[i]==1)[0])!=0 else 0 for i in range(out_layer.T.shape[0])]\n",
        "  \n",
        "  startx = min(x_starts)\n",
        "  endx = max(x_ends)\n",
        "  starty = min(y_starts)\n",
        "  endy = max(y_ends)\n",
        "  start = (startx,starty)\n",
        "  end = (endx,endy)\n",
        "\n",
        "  box_img = inp_img.copy()\n",
        "  box_img = cv2.rectangle(box_img, start, end, COLOR, THICKNESS)\n",
        "  box_img = np.append(box_img,a_layer,axis=2)\n",
        "  box_img_scaled = box_img*RESCALE\n",
        "\n",
        "\n",
        "  # SALIENT FEATURE MAP\n",
        "\n",
        "  sal_img = inp_img.copy()\n",
        "  add_layer = out_img.copy()\n",
        "  add_layer[add_layer==1] = SAL_SHIFT/RESCALE\n",
        "  sal_img[:,:,LAYER] += add_layer[:,:,LAYER]\n",
        "  sal_img = np.append(sal_img,a_layer,axis=2)\n",
        "  sal_img_scaled = sal_img*RESCALE\n",
        "  sal_img_scaled[sal_img_scaled>RESCALE] = RESCALE\n",
        "\n",
        "\n",
        "  # OUTPUT RESULTS\n",
        "\n",
        "  inp_img*=RESCALE\n",
        "  inp_img = np.append(inp_img,RESCALE*a_layer,axis=2)\n",
        "  inp_img = cv2.resize(inp_img,(int(shape[1]/3),int(shape[0]/3)))\n",
        "  rem_back = cv2.resize(rem_back_scaled,(int(shape[1]/3),int(shape[0]/3)))\n",
        "  box_img = cv2.resize(box_img_scaled,(int(shape[1]/3),int(shape[0]/3)))\n",
        "  sal_img = cv2.resize(sal_img_scaled,(int(shape[1]/3),int(shape[0]/3)))\n",
        "  result = np.concatenate((inp_img,rem_back,box_img,sal_img),axis=1)\n",
        "  result_img = Img.fromarray(result.astype('uint8'), 'RGBA')\n",
        "\n",
        "  #print('\\nINPUT         BACKGROUND REMOVED          BOUNDING BOX          ALIENT MAP\\n')\n",
        "  #display(result_img)"
      ],
      "metadata": {
        "id": "x04jnn3uI0iK"
      },
      "execution_count": null,
      "outputs": []
    }
  ]
}